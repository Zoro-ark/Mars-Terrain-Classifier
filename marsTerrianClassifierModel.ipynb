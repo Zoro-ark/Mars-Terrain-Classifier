{
 "cells": [
  {
   "cell_type": "markdown",
   "metadata": {},
   "source": [
    "# Necessary Imports and Seed"
   ]
  },
  {
   "cell_type": "code",
   "execution_count": 1,
   "metadata": {
    "execution": {
     "iopub.execute_input": "2023-10-11T16:13:02.078869Z",
     "iopub.status.busy": "2023-10-11T16:13:02.078498Z",
     "iopub.status.idle": "2023-10-11T16:13:05.383719Z",
     "shell.execute_reply": "2023-10-11T16:13:05.382742Z",
     "shell.execute_reply.started": "2023-10-11T16:13:02.078840Z"
    }
   },
   "outputs": [],
   "source": [
    "# Importing necessary libraries\n",
    "\n",
    "import warnings\n",
    "warnings.filterwarnings('ignore')\n",
    "import matplotlib.pyplot as plt\n",
    "import numpy as np\n",
    "import pandas as pd \n",
    "import scipy\n",
    "import os\n",
    "import torch\n",
    "import torch.nn as nn\n",
    "from torch.utils.data import Dataset, DataLoader, random_split\n",
    "import albumentations as A\n",
    "from albumentations.pytorch import ToTensorV2\n",
    "import cv2\n",
    "from PIL import Image\n",
    "from tqdm.auto import tqdm\n",
    "import timm"
   ]
  },
  {
   "cell_type": "code",
   "execution_count": 2,
   "metadata": {
    "execution": {
     "iopub.execute_input": "2023-10-11T16:13:05.385627Z",
     "iopub.status.busy": "2023-10-11T16:13:05.385287Z",
     "iopub.status.idle": "2023-10-11T16:13:05.390401Z",
     "shell.execute_reply": "2023-10-11T16:13:05.389055Z",
     "shell.execute_reply.started": "2023-10-11T16:13:05.385595Z"
    },
    "papermill": {
     "duration": 0.011344,
     "end_time": "2023-10-04T15:23:25.982535",
     "exception": false,
     "start_time": "2023-10-04T15:23:25.971191",
     "status": "completed"
    },
    "tags": []
   },
   "outputs": [],
   "source": [
    "# Fixing the random seed to reproduce results\n",
    "def set_seed(seed: int = 69) -> None:\n",
    "    np.random.seed(seed)\n",
    "    torch.manual_seed(seed)\n",
    "    torch.cuda.manual_seed(seed)"
   ]
  },
  {
   "cell_type": "code",
   "execution_count": 3,
   "metadata": {
    "execution": {
     "iopub.execute_input": "2023-10-11T16:13:05.392475Z",
     "iopub.status.busy": "2023-10-11T16:13:05.391821Z",
     "iopub.status.idle": "2023-10-11T16:13:05.402935Z",
     "shell.execute_reply": "2023-10-11T16:13:05.401976Z",
     "shell.execute_reply.started": "2023-10-11T16:13:05.392445Z"
    },
    "papermill": {
     "duration": 0.014853,
     "end_time": "2023-10-04T15:23:26.001426",
     "exception": false,
     "start_time": "2023-10-04T15:23:25.986573",
     "status": "completed"
    },
    "tags": []
   },
   "outputs": [],
   "source": [
    "set_seed(69)"
   ]
  },
  {
   "cell_type": "code",
   "execution_count": 4,
   "metadata": {
    "execution": {
     "iopub.execute_input": "2023-10-11T16:13:05.406511Z",
     "iopub.status.busy": "2023-10-11T16:13:05.405526Z",
     "iopub.status.idle": "2023-10-11T16:13:06.285041Z",
     "shell.execute_reply": "2023-10-11T16:13:06.283646Z",
     "shell.execute_reply.started": "2023-10-11T16:13:05.406481Z"
    }
   },
   "outputs": [],
   "source": [
    "import pickle\n",
    "path='/kaggle/input/pickled'\n",
    "\n",
    "with open(os.path.join(path,'X0.pkl'),'rb') as file:\n",
    "    X0=pickle.load(file)\n",
    "with open(os.path.join(path,'X1.pkl'),'rb') as file:\n",
    "    X1=pickle.load(file)\n",
    "with open(os.path.join(path,'X2.pkl'),'rb') as file:\n",
    "    X2=pickle.load(file)\n",
    "with open(os.path.join(path,'X3.pkl'),'rb') as file:\n",
    "    X3=pickle.load(file)\n",
    "with open(os.path.join(path,'X4.pkl'),'rb') as file:\n",
    "    X4=pickle.load(file)\n",
    "with open(os.path.join(path,'X5.pkl'),'rb') as file:\n",
    "    X5=pickle.load(file)\n",
    "with open(os.path.join(path,'X6.pkl'),'rb') as file:\n",
    "    X6=pickle.load(file)\n",
    "with open(os.path.join(path,'X7.pkl'),'rb') as file:\n",
    "    X7=pickle.load(file)\n",
    "\n",
    "with open(os.path.join(path,'y0.pkl'),'rb') as file:\n",
    "    y0=pickle.load(file)\n",
    "with open(os.path.join(path,'y1.pkl'),'rb') as file:\n",
    "    y1=pickle.load(file)\n",
    "with open(os.path.join(path,'y2.pkl'),'rb') as file:\n",
    "    y2=pickle.load(file)\n",
    "with open(os.path.join(path,'y3.pkl'),'rb') as file:\n",
    "    y3=pickle.load(file)\n",
    "with open(os.path.join(path,'y4.pkl'),'rb') as file:\n",
    "    y4=pickle.load(file)\n",
    "with open(os.path.join(path,'y5.pkl'),'rb') as file:\n",
    "    y5=pickle.load(file)\n",
    "with open(os.path.join(path,'y6.pkl'),'rb') as file:\n",
    "    y6=pickle.load(file)\n",
    "with open(os.path.join(path,'y7.pkl'),'rb') as file:\n",
    "    y7=pickle.load(file)"
   ]
  },
  {
   "cell_type": "code",
   "execution_count": 5,
   "metadata": {
    "execution": {
     "iopub.execute_input": "2023-10-11T16:13:06.288032Z",
     "iopub.status.busy": "2023-10-11T16:13:06.287428Z",
     "iopub.status.idle": "2023-10-11T16:13:06.507919Z",
     "shell.execute_reply": "2023-10-11T16:13:06.506922Z",
     "shell.execute_reply.started": "2023-10-11T16:13:06.287992Z"
    }
   },
   "outputs": [],
   "source": [
    "#0\n",
    "#a kind of a function\n",
    "X0_rand=np.arange(0,4829,1) #sizeof of X_i_\n",
    "np.random.shuffle(X0_rand)\n",
    "j=1\n",
    "X0_random=[]\n",
    "y0_random=[]\n",
    "for i in X0_rand:\n",
    "    j+=1\n",
    "    X0_random.append(X0[i])\n",
    "    y0_random.append(y0[i])\n",
    "    if j>300:\n",
    "        break\n",
    "X0_random=np.array(X0_random)\n",
    "y0_random=np.array(y0_random)\n",
    "\n",
    "#a kind of a function\n",
    "#1\n",
    "X1_rand=np.arange(0,1405,1) #sizeof of X_i_ #\n",
    "np.random.shuffle(X1_rand)#\n",
    "j=1\n",
    "X1_random=[]#\n",
    "y1_random=[]#\n",
    "for i in X1_rand:#\n",
    "    j+=1\n",
    "    X1_random.append(X1[i])#\n",
    "    y1_random.append(y1[i])#\n",
    "    if j>400:\n",
    "        break\n",
    "X1_random=np.array(X1_random)#\n",
    "y1_random=np.array(y1_random)#\n",
    "\n",
    "#2\n",
    "#a kind of a function\n",
    "X2_rand=np.arange(0,285,1) #sizeof of X_i_\n",
    "np.random.shuffle(X2_rand)\n",
    "j=1\n",
    "X2_random=[]\n",
    "y2_random=[]\n",
    "for i in X2_rand:\n",
    "    j+=1\n",
    "    X2_random.append(X2[i])\n",
    "    y2_random.append(y2[i])\n",
    "    if j>500:\n",
    "        break\n",
    "X2_random=np.array(X2_random)\n",
    "y2_random=np.array(y2_random)\n",
    "\n",
    "\n",
    "#3\n",
    "#a kind of a function\n",
    "X3_rand=np.arange(0,443,1) #sizeof of X_i_\n",
    "np.random.shuffle(X3_rand)\n",
    "j=1\n",
    "X3_random=[]\n",
    "y3_random=[]\n",
    "for i in X3_rand:\n",
    "    j+=1\n",
    "    X3_random.append(X3[i])\n",
    "    y3_random.append(y3[i])\n",
    "    if j>500:\n",
    "        break\n",
    "X3_random=np.array(X3_random)\n",
    "y3_random=np.array(y3_random)\n",
    "\n",
    "\n",
    "#4\n",
    "#a kind of a function\n",
    "X4_rand=np.arange(0,789,1) #sizeof of X_i_\n",
    "np.random.shuffle(X4_rand)\n",
    "j=1\n",
    "X4_random=[]\n",
    "y4_random=[]\n",
    "for i in X4_rand:\n",
    "    j+=1\n",
    "    X4_random.append(X4[i])\n",
    "    y4_random.append(y4[i])\n",
    "    if j>500:\n",
    "        break\n",
    "X4_random=np.array(X4_random)\n",
    "y4_random=np.array(y4_random)\n",
    "\n",
    "#5\n",
    "#a kind of a function\n",
    "X5_rand=np.arange(0,68,1) #sizeof of X_i_\n",
    "np.random.shuffle(X5_rand)\n",
    "j=1\n",
    "X5_random=[]\n",
    "y5_random=[]\n",
    "for i in X5_rand:\n",
    "    j+=1\n",
    "    X5_random.append(X5[i])\n",
    "    y5_random.append(y5[i])\n",
    "    if j>500:\n",
    "        break\n",
    "X5_random=np.array(X5_random)\n",
    "y5_random=np.array(y5_random)\n",
    "\n",
    "\n",
    "#6\n",
    "#a kind of a function\n",
    "X6_rand=np.arange(0,295,1) #sizeof of X_i_\n",
    "np.random.shuffle(X6_rand)\n",
    "j=1\n",
    "X6_random=[]\n",
    "y6_random=[]\n",
    "for i in X6_rand:\n",
    "    j+=1\n",
    "    X6_random.append(X6[i])\n",
    "    y6_random.append(y6[i])\n",
    "    if j>500:\n",
    "        break\n",
    "X6_random=np.array(X6_random)\n",
    "y6_random=np.array(y6_random)\n",
    "\n",
    "\n",
    "\n",
    "#7\n",
    "#a kind of a function\n",
    "X7_rand=np.arange(0,87,1) #sizeof of X_i_\n",
    "np.random.shuffle(X7_rand)\n",
    "j=1\n",
    "X7_random=[]\n",
    "y7_random=[]\n",
    "for i in X7_rand:\n",
    "    j+=1\n",
    "    X7_random.append(X7[i])\n",
    "    y7_random.append(y7[i])\n",
    "    if j>500:\n",
    "        break\n",
    "X7_random=np.array(X7_random)\n",
    "y7_random=np.array(y7_random)\n",
    "\n",
    "\n"
   ]
  },
  {
   "cell_type": "code",
   "execution_count": 6,
   "metadata": {
    "execution": {
     "iopub.execute_input": "2023-10-11T16:13:06.509905Z",
     "iopub.status.busy": "2023-10-11T16:13:06.509344Z",
     "iopub.status.idle": "2023-10-11T16:13:06.640747Z",
     "shell.execute_reply": "2023-10-11T16:13:06.639756Z",
     "shell.execute_reply.started": "2023-10-11T16:13:06.509872Z"
    }
   },
   "outputs": [],
   "source": [
    "X_train=np.concatenate((X0_random,X1_random,X2_random,X3_random,X4_random,X5_random,X6_random,X7_random),axis=0)\n",
    "y_train=np.concatenate((y0_random,y1_random,y2_random,y3_random,y4_random,y5_random,y6_random,y7_random),axis=0)\n"
   ]
  },
  {
   "cell_type": "code",
   "execution_count": 7,
   "metadata": {
    "execution": {
     "iopub.execute_input": "2023-10-11T16:13:06.642985Z",
     "iopub.status.busy": "2023-10-11T16:13:06.642093Z",
     "iopub.status.idle": "2023-10-11T16:13:06.758971Z",
     "shell.execute_reply": "2023-10-11T16:13:06.758027Z",
     "shell.execute_reply.started": "2023-10-11T16:13:06.642955Z"
    }
   },
   "outputs": [],
   "source": [
    "#X,y (dataset)\n",
    "#a kind of a function\n",
    "Xtrain_rand=np.arange(0,y_train.shape[0],1) #sizeof of X_i_\n",
    "np.random.shuffle(Xtrain_rand)\n",
    "j=1\n",
    "Xtrain_random=[]\n",
    "ytrain_random=[]\n",
    "for i in Xtrain_rand:\n",
    "    j+=1\n",
    "    Xtrain_random.append(X_train[i])\n",
    "    ytrain_random.append(y_train[i])\n",
    "    \n",
    "X=np.array(Xtrain_random)\n",
    "y=np.array(ytrain_random)"
   ]
  },
  {
   "cell_type": "code",
   "execution_count": 8,
   "metadata": {
    "execution": {
     "iopub.execute_input": "2023-10-11T16:13:06.761234Z",
     "iopub.status.busy": "2023-10-11T16:13:06.760297Z",
     "iopub.status.idle": "2023-10-11T16:13:06.768684Z",
     "shell.execute_reply": "2023-10-11T16:13:06.767717Z",
     "shell.execute_reply.started": "2023-10-11T16:13:06.761200Z"
    }
   },
   "outputs": [
    {
     "data": {
      "text/plain": [
       "(2378, 227, 227, 3)"
      ]
     },
     "execution_count": 8,
     "metadata": {},
     "output_type": "execute_result"
    }
   ],
   "source": [
    "X.shape"
   ]
  },
  {
   "cell_type": "code",
   "execution_count": null,
   "metadata": {},
   "outputs": [],
   "source": []
  },
  {
   "cell_type": "code",
   "execution_count": 10,
   "metadata": {
    "execution": {
     "iopub.execute_input": "2023-10-11T16:13:10.540140Z",
     "iopub.status.busy": "2023-10-11T16:13:10.539805Z",
     "iopub.status.idle": "2023-10-11T16:13:10.559120Z",
     "shell.execute_reply": "2023-10-11T16:13:10.558251Z",
     "shell.execute_reply.started": "2023-10-11T16:13:10.540112Z"
    }
   },
   "outputs": [],
   "source": [
    "# Reading the labels\n",
    "train_csv = pd.read_csv('/kaggle/input/ai-of-god-v20/train.csv')\n",
    "test_csv = pd.read_csv('/kaggle/input/ai-of-god-v20/test.csv')\n",
    "sample_submission = pd.read_csv('/kaggle/input/ai-of-god-v20/sample_submission.csv')\n"
   ]
  },
  {
   "cell_type": "code",
   "execution_count": null,
   "metadata": {},
   "outputs": [],
   "source": [
    "sample_submission\n"
   ]
  },
  {
   "cell_type": "code",
   "execution_count": null,
   "metadata": {},
   "outputs": [],
   "source": [
    "Image.open('/kaggle/input/ai-of-god-v20/train/100.jpg')"
   ]
  },
  {
   "cell_type": "code",
   "execution_count": null,
   "metadata": {},
   "outputs": [],
   "source": []
  },
  {
   "cell_type": "markdown",
   "metadata": {},
   "source": [
    "Applying basic data augmentations to prepare the input for the model"
   ]
  },
  {
   "cell_type": "code",
   "execution_count": 11,
   "metadata": {
    "execution": {
     "iopub.execute_input": "2023-10-11T16:13:13.039315Z",
     "iopub.status.busy": "2023-10-11T16:13:13.038704Z",
     "iopub.status.idle": "2023-10-11T16:13:13.045189Z",
     "shell.execute_reply": "2023-10-11T16:13:13.044176Z",
     "shell.execute_reply.started": "2023-10-11T16:13:13.039286Z"
    },
    "papermill": {
     "duration": 0.01184,
     "end_time": "2023-10-04T15:23:26.161915",
     "exception": false,
     "start_time": "2023-10-04T15:23:26.150075",
     "status": "completed"
    },
    "tags": []
   },
   "outputs": [],
   "source": [
    "\n",
    "#apply augmentations\n",
    "transform = A.Compose(\n",
    "    [\n",
    "        A.Resize(256,256),\n",
    "        A.CenterCrop(224,224),\n",
    "        A.RandomResizedCrop(224,224,scale=(0.7,1.0),ratio=(0.75,1.33333333333),p=0.5),\n",
    "        A.augmentations.geometric.rotate.Rotate(limit=90,p=0.5),\n",
    "        A.Flip(p=0.5),\n",
    "        A.Normalize(mean=(0.485, 0.456, 0.406), std=(0.229, 0.224, 0.225)),\n",
    "        #A.Normalize(mean=(np.mean(X,axis=1), 0.456, 0.406), std=(0.229, 0.224, 0.225)),\n",
    "        ToTensorV2()  #as timm expects input in CHW format\n",
    "    ]\n",
    ")"
   ]
  },
  {
   "cell_type": "code",
   "execution_count": 12,
   "metadata": {
    "execution": {
     "iopub.execute_input": "2023-10-11T16:13:15.556357Z",
     "iopub.status.busy": "2023-10-11T16:13:15.556028Z",
     "iopub.status.idle": "2023-10-11T16:13:15.560813Z",
     "shell.execute_reply": "2023-10-11T16:13:15.559811Z",
     "shell.execute_reply.started": "2023-10-11T16:13:15.556324Z"
    }
   },
   "outputs": [],
   "source": [
    "#import matplotlib.pyplot as plt"
   ]
  },
  {
   "cell_type": "markdown",
   "metadata": {},
   "source": [
    "Preparing the dataset class"
   ]
  },
  {
   "cell_type": "code",
   "execution_count": 13,
   "metadata": {
    "execution": {
     "iopub.execute_input": "2023-10-11T16:13:16.381758Z",
     "iopub.status.busy": "2023-10-11T16:13:16.380918Z",
     "iopub.status.idle": "2023-10-11T16:13:16.393106Z",
     "shell.execute_reply": "2023-10-11T16:13:16.392006Z",
     "shell.execute_reply.started": "2023-10-11T16:13:16.381708Z"
    },
    "papermill": {
     "duration": 0.013232,
     "end_time": "2023-10-04T15:23:26.1797",
     "exception": false,
     "start_time": "2023-10-04T15:23:26.166468",
     "status": "completed"
    },
    "tags": []
   },
   "outputs": [],
   "source": [
    "class TrainData(Dataset):\n",
    "    def __init__(self,X,y,transform=None):\n",
    "        self.X =X\n",
    "        self.y=y\n",
    "        self.n_samples=y.shape[0]\n",
    "        self.transform = transform\n",
    "    \n",
    "    def __len__(self):\n",
    "        return self.n_samples\n",
    "    \n",
    "    def __getitem__(self,idx):\n",
    "        img = self.X[idx]\n",
    "        \n",
    "        if self.transform is not None: \n",
    "            img = self.transform(image=img) #converts img to dictionary in some way (no its tensor)\n",
    "            \n",
    "        dic = {'image': img['image'],'label':self.y[idx]}\n",
    "        \n",
    "        return dic\n",
    "    def show_img(self,idx):\n",
    "        #considering matplot imported!\n",
    "        a=self.X[idx]\n",
    "        plt.imshow(a)\n",
    "        plt.show()\n",
    "\n",
    "\n"
   ]
  },
  {
   "cell_type": "markdown",
   "metadata": {},
   "source": [
    "Creating an object of the dataset class and splitting the dataset into training and validation datasets. "
   ]
  },
  {
   "cell_type": "code",
   "execution_count": 14,
   "metadata": {
    "execution": {
     "iopub.execute_input": "2023-10-11T16:13:17.420979Z",
     "iopub.status.busy": "2023-10-11T16:13:17.420128Z",
     "iopub.status.idle": "2023-10-11T16:13:17.426755Z",
     "shell.execute_reply": "2023-10-11T16:13:17.425735Z",
     "shell.execute_reply.started": "2023-10-11T16:13:17.420946Z"
    }
   },
   "outputs": [],
   "source": [
    "class TestData(Dataset):\n",
    "    def __init__(self,transform=None):\n",
    "        self.dir = \"/kaggle/input/ai-of-god-v20/test/\"\n",
    "        self.transform = transform\n",
    "        \n",
    "    def __len__(self):\n",
    "        return len(os.listdir(self.dir))\n",
    "    \n",
    "    def __getitem__(self,idx):\n",
    "        img = cv2.imread(self.dir+str(idx+1)+'.jpg')\n",
    "        img = cv2.cvtColor(img, cv2.COLOR_BGR2RGB)\n",
    "        if self.transform is not None:\n",
    "            img = self.transform(image=img)\n",
    "        dic = {'image':img['image']}\n",
    "        return dic"
   ]
  },
  {
   "cell_type": "code",
   "execution_count": 15,
   "metadata": {
    "execution": {
     "iopub.execute_input": "2023-10-11T16:13:18.332352Z",
     "iopub.status.busy": "2023-10-11T16:13:18.332030Z",
     "iopub.status.idle": "2023-10-11T16:13:18.337460Z",
     "shell.execute_reply": "2023-10-11T16:13:18.336040Z",
     "shell.execute_reply.started": "2023-10-11T16:13:18.332326Z"
    }
   },
   "outputs": [],
   "source": [
    "transform1 = A.Compose(\n",
    "    [\n",
    "        A.Resize(256,256),\n",
    "        A.CenterCrop(224,224),\n",
    "        A.Normalize(mean=(0.485, 0.456, 0.406), std=(0.229, 0.224, 0.225)),\n",
    "        ToTensorV2()\n",
    "    ]\n",
    ")"
   ]
  },
  {
   "cell_type": "code",
   "execution_count": 16,
   "metadata": {
    "execution": {
     "iopub.execute_input": "2023-10-11T16:13:20.028888Z",
     "iopub.status.busy": "2023-10-11T16:13:20.028050Z",
     "iopub.status.idle": "2023-10-11T16:13:20.035275Z",
     "shell.execute_reply": "2023-10-11T16:13:20.034273Z",
     "shell.execute_reply.started": "2023-10-11T16:13:20.028846Z"
    }
   },
   "outputs": [],
   "source": [
    "# Set the split ratio\n",
    "dataset = TrainData(X,y,transform=transform)\n",
    "\n",
    "train_ratio = 0.8\n",
    "validation_ratio = 0.2\n",
    "\n",
    "# Calculate the sizes for each set\n",
    "total_size = len(dataset)\n",
    "train_size = int(train_ratio * total_size)\n",
    "validation_size = total_size - train_size\n",
    "\n",
    "train_data, valid_data = random_split(dataset, [train_size, validation_size])"
   ]
  },
  {
   "cell_type": "code",
   "execution_count": 17,
   "metadata": {
    "execution": {
     "iopub.execute_input": "2023-10-11T16:13:21.148468Z",
     "iopub.status.busy": "2023-10-11T16:13:21.148134Z",
     "iopub.status.idle": "2023-10-11T16:13:21.402877Z",
     "shell.execute_reply": "2023-10-11T16:13:21.402000Z",
     "shell.execute_reply.started": "2023-10-11T16:13:21.148442Z"
    }
   },
   "outputs": [
    {
     "data": {
      "image/png": "[encoded data removed]",
      "text/plain": [
       "<Figure size 640x480 with 1 Axes>"
      ]
     },
     "metadata": {},
     "output_type": "display_data"
    }
   ],
   "source": [
    "#created afterwards\n",
    "dataset.show_img(5)    #output different as seed changed"
   ]
  },
  {
   "cell_type": "code",
   "execution_count": 18,
   "metadata": {
    "execution": {
     "iopub.execute_input": "2023-10-11T16:13:22.956878Z",
     "iopub.status.busy": "2023-10-11T16:13:22.956208Z",
     "iopub.status.idle": "2023-10-11T16:13:22.961247Z",
     "shell.execute_reply": "2023-10-11T16:13:22.960212Z",
     "shell.execute_reply.started": "2023-10-11T16:13:22.956843Z"
    }
   },
   "outputs": [],
   "source": [
    "#img1=(dataset[5])['image'] #plt inside getitem\n"
   ]
  },
  {
   "cell_type": "code",
   "execution_count": 19,
   "metadata": {
    "execution": {
     "iopub.execute_input": "2023-10-11T16:13:26.068742Z",
     "iopub.status.busy": "2023-10-11T16:13:26.068068Z",
     "iopub.status.idle": "2023-10-11T16:13:26.072678Z",
     "shell.execute_reply": "2023-10-11T16:13:26.071757Z",
     "shell.execute_reply.started": "2023-10-11T16:13:26.068710Z"
    }
   },
   "outputs": [],
   "source": [
    "#checking for same output\n",
    "#a=X[5]\n",
    "#plt.imshow(a) \n",
    "#plt.show()"
   ]
  },
  {
   "cell_type": "code",
   "execution_count": 20,
   "metadata": {
    "execution": {
     "iopub.execute_input": "2023-10-11T16:13:26.820685Z",
     "iopub.status.busy": "2023-10-11T16:13:26.820000Z",
     "iopub.status.idle": "2023-10-11T16:13:26.824718Z",
     "shell.execute_reply": "2023-10-11T16:13:26.823535Z",
     "shell.execute_reply.started": "2023-10-11T16:13:26.820652Z"
    }
   },
   "outputs": [],
   "source": [
    "#train_data[0]"
   ]
  },
  {
   "cell_type": "markdown",
   "metadata": {},
   "source": [
    "# Defining the model"
   ]
  },
  {
   "cell_type": "code",
   "execution_count": 21,
   "metadata": {
    "execution": {
     "iopub.execute_input": "2023-10-11T16:13:28.079304Z",
     "iopub.status.busy": "2023-10-11T16:13:28.078654Z",
     "iopub.status.idle": "2023-10-11T16:13:28.110542Z",
     "shell.execute_reply": "2023-10-11T16:13:28.109626Z",
     "shell.execute_reply.started": "2023-10-11T16:13:28.079275Z"
    }
   },
   "outputs": [],
   "source": [
    "#tuning_is done here\n",
    "class CFG:\n",
    "    model_name = 'densenet121'\n",
    "    target_size = 8\n",
    "    batch_size = 32\n",
    "    epochs = 5\n",
    "    num_workers = 2 if torch.cuda.is_available() else 4\n",
    "    lr = 1e-4"
   ]
  },
  {
   "cell_type": "markdown",
   "metadata": {},
   "source": [
    " Here we have used DenseNet121 as the sample model."
   ]
  },
  {
   "cell_type": "code",
   "execution_count": 22,
   "metadata": {
    "execution": {
     "iopub.execute_input": "2023-10-11T16:13:28.749869Z",
     "iopub.status.busy": "2023-10-11T16:13:28.748742Z",
     "iopub.status.idle": "2023-10-11T16:13:28.755865Z",
     "shell.execute_reply": "2023-10-11T16:13:28.754841Z",
     "shell.execute_reply.started": "2023-10-11T16:13:28.749819Z"
    }
   },
   "outputs": [],
   "source": [
    "class CustomNet(nn.Module):\n",
    "    def __init__(self, model_name=CFG.model_name, pretrained=True):\n",
    "        super().__init__()\n",
    "        self.model = timm.create_model(CFG.model_name, pretrained=pretrained,num_classes=CFG.target_size)\n",
    "\n",
    "    def forward(self, x):\n",
    "        x = self.model(x)\n",
    "        return x"
   ]
  },
  {
   "cell_type": "markdown",
   "metadata": {},
   "source": [
    "# Defining the functions for training, validation, and generating the labels on the test data."
   ]
  },
  {
   "cell_type": "code",
   "execution_count": 23,
   "metadata": {
    "execution": {
     "iopub.execute_input": "2023-10-11T16:13:29.629216Z",
     "iopub.status.busy": "2023-10-11T16:13:29.628891Z",
     "iopub.status.idle": "2023-10-11T16:13:29.637519Z",
     "shell.execute_reply": "2023-10-11T16:13:29.636513Z",
     "shell.execute_reply.started": "2023-10-11T16:13:29.629190Z"
    }
   },
   "outputs": [],
   "source": [
    "def train_fn(train_loader, model, optimizer, criterion, device):\n",
    "    model.to(device).train()\n",
    "    epoch_loss = 0\n",
    "    count = 0\n",
    "    correct_predictions =0\n",
    "    total_predictions =0\n",
    "    acc=[]\n",
    "    for i, data in enumerate(tqdm(train_loader,total = len(train_loader))):\n",
    "        images = data['image'].to(device)\n",
    "        label = data['label'].to(device)\n",
    "        \n",
    "        \n",
    "        if not isinstance(label, torch.Tensor):\n",
    "            label = torch.tensor(label, dtype=torch.long).to(device) #necessary as labels are np.array so convert them to pytorch tensor for comparision purpose\n",
    "            \n",
    "        #optimizer.zero_grad() # as of that one batch doesnt effect other\n",
    "\n",
    "        output = model(images)\n",
    "        \n",
    "        #type(output)\n",
    "        #print(output)\n",
    "        #print(output.shape)\n",
    "        \n",
    "        \n",
    "        loss = criterion(output, label)\n",
    "        \n",
    "        # Calculate accuracy\n",
    "        \n",
    "        _, predicted = torch.max(output, 1) #applied on first axis so (output,1) #return value, index of that value\n",
    "        correct_predictions += (predicted == label).sum().item()\n",
    "        total_predictions += label.size(0)\n",
    "\n",
    "\n",
    "        loss.backward()\n",
    "        optimizer.step()\n",
    "        \n",
    "        #gives accuracy for that batch\n",
    "        accuracy = correct_predictions / total_predictions\n",
    "        acc.append(accuracy)\n",
    "\n",
    "        epoch_loss += loss.item()*images.shape[0]  #image.shape[0] gives batch_size    += is done so  as to accumulate loss of previous batches\n",
    "        count += images.shape[0]\n",
    "        #print('epoch_loss: ',epoch_loss,'count: ',count)\n",
    "        #print(f\"Epoch Loss: {epoch_loss / count} | Train_Accuracy: {accuracy * 100:.2f}%\")\n",
    "    acc=np.array(acc)\n",
    "    acc=np.mean(acc)\n",
    "    print(f\"Epoch Loss: {epoch_loss / count} | Train_Accuracy: {acc * 100:.2f}%\")\n",
    "    return epoch_loss/count"
   ]
  },
  {
   "cell_type": "code",
   "execution_count": 24,
   "metadata": {
    "execution": {
     "iopub.execute_input": "2023-10-11T16:13:29.901453Z",
     "iopub.status.busy": "2023-10-11T16:13:29.900430Z",
     "iopub.status.idle": "2023-10-11T16:13:29.909504Z",
     "shell.execute_reply": "2023-10-11T16:13:29.908582Z",
     "shell.execute_reply.started": "2023-10-11T16:13:29.901409Z"
    }
   },
   "outputs": [],
   "source": [
    "def valid_fn(valid_loader, model, criterion, device):\n",
    "    model.to(device).eval()\n",
    "    \n",
    "    loss = 0\n",
    "    count = 0\n",
    "    correct_predictions =0\n",
    "    total_predictions =0\n",
    "    acc=[]\n",
    "    for i, data in enumerate(tqdm(valid_loader,total = len(valid_loader))):\n",
    "        images = data['image'].to(device)\n",
    "        label = data['label'].to(device)\n",
    "        \n",
    "        if not isinstance(label, torch.Tensor):\n",
    "            label = torch.tensor(label, dtype=torch.long).to(device)\n",
    "        \n",
    "        with torch.no_grad():\n",
    "            output = model(images)\n",
    "            step_loss = criterion(output, label)\n",
    "            loss += step_loss.item()*images.shape[0]\n",
    "            count += images.shape[0]\n",
    "            \n",
    "            \n",
    "        # Calculate accuracy\n",
    "        \n",
    "        _, predicted = torch.max(output, 1) #maximum of output in first axis\n",
    "        correct_predictions += (predicted == label).sum().item()\n",
    "        total_predictions += label.size(0) #for addition of successive batches\n",
    "        \n",
    "        accuracy = correct_predictions / total_predictions\n",
    "        acc.append(accuracy)\n",
    "        #print(f\"Val_Loss: {loss / count} | val_accuracy: {accuracy * 100:.2f}%\")\n",
    "    \n",
    "    acc=np.array(acc)\n",
    "    acc=np.mean(acc)\n",
    "    print(f\"Val_Loss: {loss / count} | val_accuracy: {acc * 100:.2f}%\")\n",
    "    return loss/count"
   ]
  },
  {
   "cell_type": "markdown",
   "metadata": {
    "execution": {
     "iopub.execute_input": "2023-10-11T10:08:51.780015Z",
     "iopub.status.busy": "2023-10-11T10:08:51.779673Z",
     "iopub.status.idle": "2023-10-11T10:08:51.786104Z",
     "shell.execute_reply": "2023-10-11T10:08:51.785149Z",
     "shell.execute_reply.started": "2023-10-11T10:08:51.779987Z"
    }
   },
   "source": [
    "def test_fn(test_loader, model, device):\n",
    "    model.to(device).eval()\n",
    "    \n",
    "    predictions = []\n",
    "    for i, data in enumerate(tqdm(test_loader,total = len(test_loader))):\n",
    "        images = data['image'].to(device)\n",
    "        \n",
    "        with torch.no_grad():\n",
    "            output = model(images)\n",
    "            _, predicted = torch.max(output, 1)\n",
    "            predictions.append(output.softmax(1).to('cpu').numpy())\n",
    "    #print(type(predictions))\n",
    "    #print(predictions)\n",
    "    #predictions = np.concatenate(preds)\n",
    "    #predictions=np.array(predictions)\n",
    "    #predictions = predictions.argmax(1)\n",
    "    \n",
    "    return predicted\n",
    "    #return predictions \n"
   ]
  },
  {
   "cell_type": "code",
   "execution_count": 25,
   "metadata": {
    "execution": {
     "iopub.execute_input": "2023-10-11T16:13:30.869130Z",
     "iopub.status.busy": "2023-10-11T16:13:30.868476Z",
     "iopub.status.idle": "2023-10-11T16:13:30.874999Z",
     "shell.execute_reply": "2023-10-11T16:13:30.873966Z",
     "shell.execute_reply.started": "2023-10-11T16:13:30.869100Z"
    }
   },
   "outputs": [],
   "source": [
    "# TEST\n",
    "def test_fn(test_loader, model, device):\n",
    "    model.to(device).eval()\n",
    "\n",
    "    predictions = []\n",
    "    for i, data in enumerate(tqdm(test_loader,total = len(test_loader))):\n",
    "        images = data['image'].to(device)\n",
    "\n",
    "        with torch.no_grad():\n",
    "            output = model(images)\n",
    "            # Get the predicted class labels as a 1D array\n",
    "            predicted_labels = torch.argmax(output, dim=1).to('cpu').numpy()\n",
    "            predictions.extend(predicted_labels)\n",
    "\n",
    "    return predictions"
   ]
  },
  {
   "cell_type": "markdown",
   "metadata": {},
   "source": [
    "# Preparing the dataloaders and defining the loss function and optimizers"
   ]
  },
  {
   "cell_type": "code",
   "execution_count": 26,
   "metadata": {
    "execution": {
     "iopub.execute_input": "2023-10-11T16:13:33.334201Z",
     "iopub.status.busy": "2023-10-11T16:13:33.333627Z",
     "iopub.status.idle": "2023-10-11T16:13:33.341485Z",
     "shell.execute_reply": "2023-10-11T16:13:33.340284Z",
     "shell.execute_reply.started": "2023-10-11T16:13:33.334177Z"
    }
   },
   "outputs": [
    {
     "data": {
      "text/plain": [
       "'cuda'"
      ]
     },
     "execution_count": 26,
     "metadata": {},
     "output_type": "execute_result"
    }
   ],
   "source": [
    "train_loader = DataLoader(train_data, batch_size=CFG.batch_size, shuffle=True) #distributes in terms of batches so that iteration is in form of batches\n",
    "valid_loader = DataLoader(valid_data, batch_size=CFG.batch_size, shuffle=False)\n",
    "\n",
    "device = 'cuda' if torch.cuda.is_available() else 'cpu'\n",
    "\n",
    "device"
   ]
  },
  {
   "cell_type": "code",
   "execution_count": 27,
   "metadata": {
    "execution": {
     "iopub.execute_input": "2023-10-11T16:13:35.245371Z",
     "iopub.status.busy": "2023-10-11T16:13:35.244690Z",
     "iopub.status.idle": "2023-10-11T16:13:37.440784Z",
     "shell.execute_reply": "2023-10-11T16:13:37.439770Z",
     "shell.execute_reply.started": "2023-10-11T16:13:35.245331Z"
    }
   },
   "outputs": [],
   "source": [
    "model = CustomNet(model_name=CFG.model_name, pretrained=True)\n",
    "\n",
    "model.to(device)\n",
    "epochs = CFG.epochs\n",
    "optimizer = torch.optim.SGD(model.parameters(), lr=CFG.lr)\n",
    "#optimizer = torch.optim.Adam(model.parameters(), lr=CFG.lr)\n",
    "\n",
    "criterion = nn.CrossEntropyLoss()"
   ]
  },
  {
   "cell_type": "markdown",
   "metadata": {},
   "source": [
    "# The Training Loop"
   ]
  },
  {
   "cell_type": "markdown",
   "metadata": {},
   "source": [
    "Here we run the training loop and save the best possible model"
   ]
  },
  {
   "cell_type": "code",
   "execution_count": 28,
   "metadata": {
    "execution": {
     "iopub.execute_input": "2023-10-11T16:13:37.443414Z",
     "iopub.status.busy": "2023-10-11T16:13:37.442506Z",
     "iopub.status.idle": "2023-10-11T16:14:51.542866Z",
     "shell.execute_reply": "2023-10-11T16:14:51.541822Z",
     "shell.execute_reply.started": "2023-10-11T16:13:37.443381Z"
    }
   },
   "outputs": [
    {
     "name": "stdout",
     "output_type": "stream",
     "text": [
      "Epoch:  0\n"
     ]
    },
    {
     "data": {
      "application/vnd.jupyter.widget-view+json": {
       "model_id": "dca80c3b6a344109a96b18fc891b80e8",
       "version_major": 2,
       "version_minor": 0
      },
      "text/plain": [
       "  0%|          | 0/60 [00:00<?, ?it/s]"
      ]
     },
     "metadata": {},
     "output_type": "display_data"
    },
    {
     "name": "stdout",
     "output_type": "stream",
     "text": [
      "Epoch Loss: 1.6850503436147728 | Train_Accuracy: 33.52%\n"
     ]
    },
    {
     "data": {
      "application/vnd.jupyter.widget-view+json": {
       "model_id": "b150e337e36e450cb5d8763989c42c33",
       "version_major": 2,
       "version_minor": 0
      },
      "text/plain": [
       "  0%|          | 0/15 [00:00<?, ?it/s]"
      ]
     },
     "metadata": {},
     "output_type": "display_data"
    },
    {
     "name": "stdout",
     "output_type": "stream",
     "text": [
      "Val_Loss: 1.3172386934777267 | val_accuracy: 61.88%\n",
      "Loss Improved\n",
      "Epoch 1 - Save Val_Loss: 1.3172\n",
      "Epoch:  1\n"
     ]
    },
    {
     "data": {
      "application/vnd.jupyter.widget-view+json": {
       "model_id": "48bd16df31a04fbd8fd90b51ea709237",
       "version_major": 2,
       "version_minor": 0
      },
      "text/plain": [
       "  0%|          | 0/60 [00:00<?, ?it/s]"
      ]
     },
     "metadata": {},
     "output_type": "display_data"
    },
    {
     "name": "stdout",
     "output_type": "stream",
     "text": [
      "Epoch Loss: 0.918551890506604 | Train_Accuracy: 67.48%\n"
     ]
    },
    {
     "data": {
      "application/vnd.jupyter.widget-view+json": {
       "model_id": "b93365e4b00f45cdbd34e1999f36a3ac",
       "version_major": 2,
       "version_minor": 0
      },
      "text/plain": [
       "  0%|          | 0/15 [00:00<?, ?it/s]"
      ]
     },
     "metadata": {},
     "output_type": "display_data"
    },
    {
     "name": "stdout",
     "output_type": "stream",
     "text": [
      "Val_Loss: 0.7653673281188772 | val_accuracy: 78.44%\n",
      "Loss Improved\n",
      "Epoch 2 - Save Val_Loss: 0.7654\n",
      "Epoch:  2\n"
     ]
    },
    {
     "data": {
      "application/vnd.jupyter.widget-view+json": {
       "model_id": "8bb48aa232174a889f0d1361b6590c8c",
       "version_major": 2,
       "version_minor": 0
      },
      "text/plain": [
       "  0%|          | 0/60 [00:00<?, ?it/s]"
      ]
     },
     "metadata": {},
     "output_type": "display_data"
    },
    {
     "name": "stdout",
     "output_type": "stream",
     "text": [
      "Epoch Loss: 0.5582689469294343 | Train_Accuracy: 83.21%\n"
     ]
    },
    {
     "data": {
      "application/vnd.jupyter.widget-view+json": {
       "model_id": "2ab8e8e193274d7aaa86a0e33d1b1c15",
       "version_major": 2,
       "version_minor": 0
      },
      "text/plain": [
       "  0%|          | 0/15 [00:00<?, ?it/s]"
      ]
     },
     "metadata": {},
     "output_type": "display_data"
    },
    {
     "name": "stdout",
     "output_type": "stream",
     "text": [
      "Val_Loss: 0.471901584322713 | val_accuracy: 87.02%\n",
      "Loss Improved\n",
      "Epoch 3 - Save Val_Loss: 0.4719\n",
      "Epoch:  3\n"
     ]
    },
    {
     "data": {
      "application/vnd.jupyter.widget-view+json": {
       "model_id": "e96ec6f8420f4ef19b7f997321f31060",
       "version_major": 2,
       "version_minor": 0
      },
      "text/plain": [
       "  0%|          | 0/60 [00:00<?, ?it/s]"
      ]
     },
     "metadata": {},
     "output_type": "display_data"
    },
    {
     "name": "stdout",
     "output_type": "stream",
     "text": [
      "Epoch Loss: 0.41159727946942287 | Train_Accuracy: 85.46%\n"
     ]
    },
    {
     "data": {
      "application/vnd.jupyter.widget-view+json": {
       "model_id": "b59caa74cb3a4c50941dfbf7c88a5145",
       "version_major": 2,
       "version_minor": 0
      },
      "text/plain": [
       "  0%|          | 0/15 [00:00<?, ?it/s]"
      ]
     },
     "metadata": {},
     "output_type": "display_data"
    },
    {
     "name": "stdout",
     "output_type": "stream",
     "text": [
      "Val_Loss: 0.3632342193056555 | val_accuracy: 87.15%\n",
      "Loss Improved\n",
      "Epoch 4 - Save Val_Loss: 0.3632\n",
      "Epoch:  4\n"
     ]
    },
    {
     "data": {
      "application/vnd.jupyter.widget-view+json": {
       "model_id": "0d02257aa69944678df7c155d780d8ce",
       "version_major": 2,
       "version_minor": 0
      },
      "text/plain": [
       "  0%|          | 0/60 [00:00<?, ?it/s]"
      ]
     },
     "metadata": {},
     "output_type": "display_data"
    },
    {
     "name": "stdout",
     "output_type": "stream",
     "text": [
      "Epoch Loss: 0.30773884377645017 | Train_Accuracy: 90.93%\n"
     ]
    },
    {
     "data": {
      "application/vnd.jupyter.widget-view+json": {
       "model_id": "97bc202e31aa43c49e84973babbfb057",
       "version_major": 2,
       "version_minor": 0
      },
      "text/plain": [
       "  0%|          | 0/15 [00:00<?, ?it/s]"
      ]
     },
     "metadata": {},
     "output_type": "display_data"
    },
    {
     "name": "stdout",
     "output_type": "stream",
     "text": [
      "Val_Loss: 0.30641302992315855 | val_accuracy: 91.95%\n",
      "Loss Improved\n",
      "Epoch 5 - Save Val_Loss: 0.3064\n"
     ]
    }
   ],
   "source": [
    "best_val_loss = np.inf\n",
    "trainloss=[]\n",
    "valloss=[]\n",
    "for epoch in range(CFG.epochs):\n",
    "    print('Epoch: ',epoch)\n",
    "    train_loss = train_fn(train_loader, model, optimizer, criterion, device)\n",
    "    val_loss = valid_fn(valid_loader, model, criterion, device)\n",
    "    \n",
    "    trainloss.append(train_loss) #for graphing purpose later\n",
    "    valloss.append(val_loss) # for graphing on later\n",
    "\n",
    "    if val_loss < best_val_loss:\n",
    "        print('Loss Improved')\n",
    "        best_val_loss = val_loss\n",
    "        print(f'Epoch {epoch+1} - Save Val_Loss: {best_val_loss:.4f}')\n",
    "        torch.save({'model': model.state_dict(), \n",
    "                    'optimizer': optimizer.state_dict()},\n",
    "                    './'+f'{CFG.model_name}_best.pth')\n"
   ]
  },
  {
   "cell_type": "markdown",
   "metadata": {},
   "source": [
    "xpoints = np.arange(0,(y.shape[0])*0.8,1)\n",
    "ypoints = trainloss\n",
    "zpoints=valloss\n",
    "plt.plot(xpoints, ypoints,color='red')\n",
    "plt.plot(xpoints, zpoints,color='cyan')\n",
    "plt.show()"
   ]
  },
  {
   "cell_type": "code",
   "execution_count": 29,
   "metadata": {
    "execution": {
     "iopub.execute_input": "2023-10-11T16:15:07.043765Z",
     "iopub.status.busy": "2023-10-11T16:15:07.043403Z",
     "iopub.status.idle": "2023-10-11T16:15:07.169249Z",
     "shell.execute_reply": "2023-10-11T16:15:07.168266Z",
     "shell.execute_reply.started": "2023-10-11T16:15:07.043737Z"
    }
   },
   "outputs": [],
   "source": [
    "torch.save(model,'wid_val_acc91_5epo')"
   ]
  },
  {
   "cell_type": "markdown",
   "metadata": {},
   "source": [
    "# Generate Predictions"
   ]
  },
  {
   "cell_type": "markdown",
   "metadata": {},
   "source": [
    "Since we have trained the model, its time to obtain the predictions on the data."
   ]
  },
  {
   "cell_type": "code",
   "execution_count": null,
   "metadata": {},
   "outputs": [],
   "source": []
  },
  {
   "cell_type": "code",
   "execution_count": 30,
   "metadata": {
    "execution": {
     "iopub.execute_input": "2023-10-11T16:16:12.063464Z",
     "iopub.status.busy": "2023-10-11T16:16:12.063081Z",
     "iopub.status.idle": "2023-10-11T16:16:33.268051Z",
     "shell.execute_reply": "2023-10-11T16:16:33.267004Z",
     "shell.execute_reply.started": "2023-10-11T16:16:12.063438Z"
    }
   },
   "outputs": [
    {
     "data": {
      "application/vnd.jupyter.widget-view+json": {
       "model_id": "78bb92ffaea542019aa0a69af6367977",
       "version_major": 2,
       "version_minor": 0
      },
      "text/plain": [
       "  0%|          | 0/85 [00:00<?, ?it/s]"
      ]
     },
     "metadata": {},
     "output_type": "display_data"
    }
   ],
   "source": [
    "test_dataset = TestData(transform=transform1)\n",
    "test_loader = DataLoader(test_dataset, batch_size=32, shuffle=False)\n",
    "#model.to(device)\n",
    "#model.load_state_dict(check_point['model'])\n",
    "pred = test_fn(test_loader, model, device)"
   ]
  },
  {
   "cell_type": "code",
   "execution_count": 31,
   "metadata": {
    "execution": {
     "iopub.execute_input": "2023-10-11T16:16:33.270781Z",
     "iopub.status.busy": "2023-10-11T16:16:33.270112Z",
     "iopub.status.idle": "2023-10-11T16:16:33.277593Z",
     "shell.execute_reply": "2023-10-11T16:16:33.276561Z",
     "shell.execute_reply.started": "2023-10-11T16:16:33.270749Z"
    }
   },
   "outputs": [
    {
     "data": {
      "text/plain": [
       "2694"
      ]
     },
     "execution_count": 31,
     "metadata": {},
     "output_type": "execute_result"
    }
   ],
   "source": [
    "len(pred)\n"
   ]
  },
  {
   "cell_type": "code",
   "execution_count": 32,
   "metadata": {
    "execution": {
     "iopub.execute_input": "2023-10-11T16:16:33.279484Z",
     "iopub.status.busy": "2023-10-11T16:16:33.278964Z",
     "iopub.status.idle": "2023-10-11T16:16:33.291305Z",
     "shell.execute_reply": "2023-10-11T16:16:33.290474Z",
     "shell.execute_reply.started": "2023-10-11T16:16:33.279453Z"
    }
   },
   "outputs": [],
   "source": [
    "sub = pd.read_csv('/kaggle/input/ai-of-god-v20/test.csv')"
   ]
  },
  {
   "cell_type": "code",
   "execution_count": 33,
   "metadata": {
    "execution": {
     "iopub.execute_input": "2023-10-11T16:16:33.294260Z",
     "iopub.status.busy": "2023-10-11T16:16:33.293730Z",
     "iopub.status.idle": "2023-10-11T16:16:33.311978Z",
     "shell.execute_reply": "2023-10-11T16:16:33.311112Z",
     "shell.execute_reply.started": "2023-10-11T16:16:33.294231Z"
    }
   },
   "outputs": [],
   "source": [
    "sub['Class'] = pred"
   ]
  },
  {
   "cell_type": "code",
   "execution_count": 34,
   "metadata": {
    "execution": {
     "iopub.execute_input": "2023-10-11T16:16:33.313828Z",
     "iopub.status.busy": "2023-10-11T16:16:33.313184Z",
     "iopub.status.idle": "2023-10-11T16:16:33.332640Z",
     "shell.execute_reply": "2023-10-11T16:16:33.331449Z",
     "shell.execute_reply.started": "2023-10-11T16:16:33.313799Z"
    }
   },
   "outputs": [
    {
     "data": {
      "text/html": [
       "<div>\n",
       "<style scoped>\n",
       "    .dataframe tbody tr th:only-of-type {\n",
       "        vertical-align: middle;\n",
       "    }\n",
       "\n",
       "    .dataframe tbody tr th {\n",
       "        vertical-align: top;\n",
       "    }\n",
       "\n",
       "    .dataframe thead th {\n",
       "        text-align: right;\n",
       "    }\n",
       "</style>\n",
       "<table border=\"1\" class=\"dataframe\">\n",
       "  <thead>\n",
       "    <tr style=\"text-align: right;\">\n",
       "      <th></th>\n",
       "      <th>FileName</th>\n",
       "      <th>Class</th>\n",
       "    </tr>\n",
       "  </thead>\n",
       "  <tbody>\n",
       "    <tr>\n",
       "      <th>0</th>\n",
       "      <td>1.jpg</td>\n",
       "      <td>1</td>\n",
       "    </tr>\n",
       "    <tr>\n",
       "      <th>1</th>\n",
       "      <td>2.jpg</td>\n",
       "      <td>1</td>\n",
       "    </tr>\n",
       "    <tr>\n",
       "      <th>2</th>\n",
       "      <td>3.jpg</td>\n",
       "      <td>1</td>\n",
       "    </tr>\n",
       "    <tr>\n",
       "      <th>3</th>\n",
       "      <td>4.jpg</td>\n",
       "      <td>1</td>\n",
       "    </tr>\n",
       "    <tr>\n",
       "      <th>4</th>\n",
       "      <td>5.jpg</td>\n",
       "      <td>1</td>\n",
       "    </tr>\n",
       "    <tr>\n",
       "      <th>...</th>\n",
       "      <td>...</td>\n",
       "      <td>...</td>\n",
       "    </tr>\n",
       "    <tr>\n",
       "      <th>2689</th>\n",
       "      <td>2690.jpg</td>\n",
       "      <td>3</td>\n",
       "    </tr>\n",
       "    <tr>\n",
       "      <th>2690</th>\n",
       "      <td>2691.jpg</td>\n",
       "      <td>3</td>\n",
       "    </tr>\n",
       "    <tr>\n",
       "      <th>2691</th>\n",
       "      <td>2692.jpg</td>\n",
       "      <td>7</td>\n",
       "    </tr>\n",
       "    <tr>\n",
       "      <th>2692</th>\n",
       "      <td>2693.jpg</td>\n",
       "      <td>3</td>\n",
       "    </tr>\n",
       "    <tr>\n",
       "      <th>2693</th>\n",
       "      <td>2694.jpg</td>\n",
       "      <td>0</td>\n",
       "    </tr>\n",
       "  </tbody>\n",
       "</table>\n",
       "<p>2694 rows × 2 columns</p>\n",
       "</div>"
      ],
      "text/plain": [
       "      FileName  Class\n",
       "0        1.jpg      1\n",
       "1        2.jpg      1\n",
       "2        3.jpg      1\n",
       "3        4.jpg      1\n",
       "4        5.jpg      1\n",
       "...        ...    ...\n",
       "2689  2690.jpg      3\n",
       "2690  2691.jpg      3\n",
       "2691  2692.jpg      7\n",
       "2692  2693.jpg      3\n",
       "2693  2694.jpg      0\n",
       "\n",
       "[2694 rows x 2 columns]"
      ]
     },
     "execution_count": 34,
     "metadata": {},
     "output_type": "execute_result"
    }
   ],
   "source": [
    "sub"
   ]
  },
  {
   "cell_type": "code",
   "execution_count": 35,
   "metadata": {
    "execution": {
     "iopub.execute_input": "2023-10-11T16:16:34.479532Z",
     "iopub.status.busy": "2023-10-11T16:16:34.479194Z",
     "iopub.status.idle": "2023-10-11T16:16:34.493840Z",
     "shell.execute_reply": "2023-10-11T16:16:34.492528Z",
     "shell.execute_reply.started": "2023-10-11T16:16:34.479504Z"
    }
   },
   "outputs": [],
   "source": [
    "sub.to_csv('submission_vsa_91.csv',index=False)"
   ]
  },
  {
   "cell_type": "markdown",
   "metadata": {},
   "source": []
  }
 ],
 "metadata": {
  "kernelspec": {
   "display_name": "Python 3 (ipykernel)",
   "language": "python",
   "name": "python3"
  },
  "language_info": {
   "codemirror_mode": {
    "name": "ipython",
    "version": 3
   },
   "file_extension": ".py",
   "mimetype": "text/x-python",
   "name": "python",
   "nbconvert_exporter": "python",
   "pygments_lexer": "ipython3",
   "version": "3.11.4"
  }
 },
 "nbformat": 4,
 "nbformat_minor": 4
}
